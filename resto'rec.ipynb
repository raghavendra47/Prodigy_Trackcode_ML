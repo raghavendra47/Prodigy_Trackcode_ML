{
 "cells": [
  {
   "cell_type": "code",
   "execution_count": 1,
   "id": "bf081662-bf23-4c00-801a-98312513233c",
   "metadata": {},
   "outputs": [],
   "source": [
    "import numpy as np\n",
    "import pandas as pd"
   ]
  },
  {
   "cell_type": "code",
   "execution_count": 2,
   "id": "5ecacfc4-9fa1-4e2c-b7c8-62c97816febc",
   "metadata": {},
   "outputs": [
    {
     "data": {
      "text/html": [
       "<div>\n",
       "<style scoped>\n",
       "    .dataframe tbody tr th:only-of-type {\n",
       "        vertical-align: middle;\n",
       "    }\n",
       "\n",
       "    .dataframe tbody tr th {\n",
       "        vertical-align: top;\n",
       "    }\n",
       "\n",
       "    .dataframe thead th {\n",
       "        text-align: right;\n",
       "    }\n",
       "</style>\n",
       "<table border=\"1\" class=\"dataframe\">\n",
       "  <thead>\n",
       "    <tr style=\"text-align: right;\">\n",
       "      <th></th>\n",
       "      <th>Name</th>\n",
       "      <th>Location</th>\n",
       "      <th>Locality</th>\n",
       "      <th>City</th>\n",
       "      <th>Cuisine</th>\n",
       "      <th>Rating</th>\n",
       "      <th>Votes</th>\n",
       "      <th>Cost</th>\n",
       "    </tr>\n",
       "  </thead>\n",
       "  <tbody>\n",
       "    <tr>\n",
       "      <th>0</th>\n",
       "      <td>Local</td>\n",
       "      <td>Scindia House,Connaught Place, Central Delhi</td>\n",
       "      <td>Central Delhi</td>\n",
       "      <td>Delhi</td>\n",
       "      <td>North Indian,  Finger Food,  Continental</td>\n",
       "      <td>4.1</td>\n",
       "      <td>2415</td>\n",
       "      <td>2000</td>\n",
       "    </tr>\n",
       "    <tr>\n",
       "      <th>1</th>\n",
       "      <td>The G.T. ROAD</td>\n",
       "      <td>M-Block,Connaught Place, Central Delhi</td>\n",
       "      <td>Central Delhi</td>\n",
       "      <td>Delhi</td>\n",
       "      <td>North Indian</td>\n",
       "      <td>4.3</td>\n",
       "      <td>2363</td>\n",
       "      <td>1500</td>\n",
       "    </tr>\n",
       "    <tr>\n",
       "      <th>2</th>\n",
       "      <td>Tamasha</td>\n",
       "      <td>Connaught Place, Central Delhi</td>\n",
       "      <td>Central Delhi</td>\n",
       "      <td>Delhi</td>\n",
       "      <td>Finger Food,  North Indian,  Italian,  Contine...</td>\n",
       "      <td>4.2</td>\n",
       "      <td>5016</td>\n",
       "      <td>2000</td>\n",
       "    </tr>\n",
       "    <tr>\n",
       "      <th>3</th>\n",
       "      <td>The Junkyard Cafe</td>\n",
       "      <td>Connaught Place, Central Delhi</td>\n",
       "      <td>Central Delhi</td>\n",
       "      <td>Delhi</td>\n",
       "      <td>North Indian,  Mediterranean,  Asian,  Italian...</td>\n",
       "      <td>4.2</td>\n",
       "      <td>2821</td>\n",
       "      <td>1800</td>\n",
       "    </tr>\n",
       "    <tr>\n",
       "      <th>4</th>\n",
       "      <td>Chili's American Grill and Bar</td>\n",
       "      <td>M-Block,Connaught Place, Central Delhi</td>\n",
       "      <td>Central Delhi</td>\n",
       "      <td>Delhi</td>\n",
       "      <td>Mexican,  American,  Italian</td>\n",
       "      <td>4.4</td>\n",
       "      <td>1094</td>\n",
       "      <td>2000</td>\n",
       "    </tr>\n",
       "  </tbody>\n",
       "</table>\n",
       "</div>"
      ],
      "text/plain": [
       "                             Name  \\\n",
       "0                           Local   \n",
       "1                   The G.T. ROAD   \n",
       "2                         Tamasha   \n",
       "3               The Junkyard Cafe   \n",
       "4  Chili's American Grill and Bar   \n",
       "\n",
       "                                       Location        Locality   City  \\\n",
       "0  Scindia House,Connaught Place, Central Delhi   Central Delhi  Delhi   \n",
       "1        M-Block,Connaught Place, Central Delhi   Central Delhi  Delhi   \n",
       "2                Connaught Place, Central Delhi   Central Delhi  Delhi   \n",
       "3                Connaught Place, Central Delhi   Central Delhi  Delhi   \n",
       "4        M-Block,Connaught Place, Central Delhi   Central Delhi  Delhi   \n",
       "\n",
       "                                             Cuisine  Rating  Votes  Cost  \n",
       "0           North Indian,  Finger Food,  Continental     4.1   2415  2000  \n",
       "1                                       North Indian     4.3   2363  1500  \n",
       "2  Finger Food,  North Indian,  Italian,  Contine...     4.2   5016  2000  \n",
       "3  North Indian,  Mediterranean,  Asian,  Italian...     4.2   2821  1800  \n",
       "4                       Mexican,  American,  Italian     4.4   1094  2000  "
      ]
     },
     "execution_count": 2,
     "metadata": {},
     "output_type": "execute_result"
    }
   ],
   "source": [
    "resto= pd.read_csv('restaurants.csv')\n",
    "resto.head()"
   ]
  },
  {
   "cell_type": "code",
   "execution_count": 3,
   "id": "7f172918-db13-4106-8610-e2b53a1e41d2",
   "metadata": {},
   "outputs": [
    {
     "data": {
      "text/plain": [
       "3"
      ]
     },
     "execution_count": 3,
     "metadata": {},
     "output_type": "execute_result"
    }
   ],
   "source": [
    "resto.duplicated().sum()"
   ]
  },
  {
   "cell_type": "code",
   "execution_count": 4,
   "id": "baa373a6-bc73-40ba-a3bb-3528a607f74a",
   "metadata": {},
   "outputs": [
    {
     "data": {
      "text/plain": [
       "0"
      ]
     },
     "execution_count": 4,
     "metadata": {},
     "output_type": "execute_result"
    }
   ],
   "source": [
    "resto.drop_duplicates(subset=None, keep='first', inplace=True)\n",
    "resto.duplicated().sum()"
   ]
  },
  {
   "cell_type": "code",
   "execution_count": 5,
   "id": "7d7fa97c-28ad-4b5c-9b8d-ecae9a7091e7",
   "metadata": {},
   "outputs": [
    {
     "data": {
      "text/html": [
       "<div>\n",
       "<style scoped>\n",
       "    .dataframe tbody tr th:only-of-type {\n",
       "        vertical-align: middle;\n",
       "    }\n",
       "\n",
       "    .dataframe tbody tr th {\n",
       "        vertical-align: top;\n",
       "    }\n",
       "\n",
       "    .dataframe thead th {\n",
       "        text-align: right;\n",
       "    }\n",
       "</style>\n",
       "<table border=\"1\" class=\"dataframe\">\n",
       "  <thead>\n",
       "    <tr style=\"text-align: right;\">\n",
       "      <th></th>\n",
       "      <th>Name</th>\n",
       "      <th>Location</th>\n",
       "      <th>Locality</th>\n",
       "      <th>City</th>\n",
       "      <th>Cuisine</th>\n",
       "      <th>Rating</th>\n",
       "      <th>Votes</th>\n",
       "      <th>Cost</th>\n",
       "    </tr>\n",
       "  </thead>\n",
       "  <tbody>\n",
       "    <tr>\n",
       "      <th>0</th>\n",
       "      <td>Local</td>\n",
       "      <td>ScindiaHouse,ConnaughtPlace,CentralDelhi</td>\n",
       "      <td>CentralDelhi</td>\n",
       "      <td>Delhi</td>\n",
       "      <td>North Indian,  Finger Food,  Continental</td>\n",
       "      <td>4.1</td>\n",
       "      <td>2415</td>\n",
       "      <td>2000</td>\n",
       "    </tr>\n",
       "    <tr>\n",
       "      <th>1</th>\n",
       "      <td>The G.T. ROAD</td>\n",
       "      <td>M-Block,ConnaughtPlace,CentralDelhi</td>\n",
       "      <td>CentralDelhi</td>\n",
       "      <td>Delhi</td>\n",
       "      <td>North Indian</td>\n",
       "      <td>4.3</td>\n",
       "      <td>2363</td>\n",
       "      <td>1500</td>\n",
       "    </tr>\n",
       "    <tr>\n",
       "      <th>2</th>\n",
       "      <td>Tamasha</td>\n",
       "      <td>ConnaughtPlace,CentralDelhi</td>\n",
       "      <td>CentralDelhi</td>\n",
       "      <td>Delhi</td>\n",
       "      <td>Finger Food,  North Indian,  Italian,  Contine...</td>\n",
       "      <td>4.2</td>\n",
       "      <td>5016</td>\n",
       "      <td>2000</td>\n",
       "    </tr>\n",
       "    <tr>\n",
       "      <th>3</th>\n",
       "      <td>The Junkyard Cafe</td>\n",
       "      <td>ConnaughtPlace,CentralDelhi</td>\n",
       "      <td>CentralDelhi</td>\n",
       "      <td>Delhi</td>\n",
       "      <td>North Indian,  Mediterranean,  Asian,  Italian...</td>\n",
       "      <td>4.2</td>\n",
       "      <td>2821</td>\n",
       "      <td>1800</td>\n",
       "    </tr>\n",
       "    <tr>\n",
       "      <th>4</th>\n",
       "      <td>Chili's American Grill and Bar</td>\n",
       "      <td>M-Block,ConnaughtPlace,CentralDelhi</td>\n",
       "      <td>CentralDelhi</td>\n",
       "      <td>Delhi</td>\n",
       "      <td>Mexican,  American,  Italian</td>\n",
       "      <td>4.4</td>\n",
       "      <td>1094</td>\n",
       "      <td>2000</td>\n",
       "    </tr>\n",
       "  </tbody>\n",
       "</table>\n",
       "</div>"
      ],
      "text/plain": [
       "                             Name                                  Location  \\\n",
       "0                           Local  ScindiaHouse,ConnaughtPlace,CentralDelhi   \n",
       "1                   The G.T. ROAD       M-Block,ConnaughtPlace,CentralDelhi   \n",
       "2                         Tamasha               ConnaughtPlace,CentralDelhi   \n",
       "3               The Junkyard Cafe               ConnaughtPlace,CentralDelhi   \n",
       "4  Chili's American Grill and Bar       M-Block,ConnaughtPlace,CentralDelhi   \n",
       "\n",
       "       Locality   City                                            Cuisine  \\\n",
       "0  CentralDelhi  Delhi           North Indian,  Finger Food,  Continental   \n",
       "1  CentralDelhi  Delhi                                       North Indian   \n",
       "2  CentralDelhi  Delhi  Finger Food,  North Indian,  Italian,  Contine...   \n",
       "3  CentralDelhi  Delhi  North Indian,  Mediterranean,  Asian,  Italian...   \n",
       "4  CentralDelhi  Delhi                       Mexican,  American,  Italian   \n",
       "\n",
       "   Rating  Votes  Cost  \n",
       "0     4.1   2415  2000  \n",
       "1     4.3   2363  1500  \n",
       "2     4.2   5016  2000  \n",
       "3     4.2   2821  1800  \n",
       "4     4.4   1094  2000  "
      ]
     },
     "execution_count": 5,
     "metadata": {},
     "output_type": "execute_result"
    }
   ],
   "source": [
    "resto['Location']= resto['Location'].str.replace(\" \",\"\")\n",
    "resto['Locality']= resto['Locality'].str.replace(\" \",\"\")\n",
    "resto.head()"
   ]
  },
  {
   "cell_type": "code",
   "execution_count": 6,
   "id": "1edff6de-4caa-4e55-a30d-2a7af5d4533a",
   "metadata": {},
   "outputs": [],
   "source": [
    "sep=' '\n",
    "resto['Cost']= resto['Cost'].astype(str)\n",
    "resto['Combined'] = resto['Locality']+sep+resto['City']+sep+resto['Cuisine']"
   ]
  },
  {
   "cell_type": "code",
   "execution_count": 7,
   "id": "2591f632-e633-467b-9147-9ab0140274c5",
   "metadata": {},
   "outputs": [
    {
     "data": {
      "text/html": [
       "<div>\n",
       "<style scoped>\n",
       "    .dataframe tbody tr th:only-of-type {\n",
       "        vertical-align: middle;\n",
       "    }\n",
       "\n",
       "    .dataframe tbody tr th {\n",
       "        vertical-align: top;\n",
       "    }\n",
       "\n",
       "    .dataframe thead th {\n",
       "        text-align: right;\n",
       "    }\n",
       "</style>\n",
       "<table border=\"1\" class=\"dataframe\">\n",
       "  <thead>\n",
       "    <tr style=\"text-align: right;\">\n",
       "      <th></th>\n",
       "      <th>Name</th>\n",
       "      <th>Location</th>\n",
       "      <th>Locality</th>\n",
       "      <th>City</th>\n",
       "      <th>Cuisine</th>\n",
       "      <th>Rating</th>\n",
       "      <th>Votes</th>\n",
       "      <th>Cost</th>\n",
       "      <th>Combined</th>\n",
       "    </tr>\n",
       "  </thead>\n",
       "  <tbody>\n",
       "    <tr>\n",
       "      <th>0</th>\n",
       "      <td>Local</td>\n",
       "      <td>ScindiaHouse,ConnaughtPlace,CentralDelhi</td>\n",
       "      <td>CentralDelhi</td>\n",
       "      <td>Delhi</td>\n",
       "      <td>North Indian,  Finger Food,  Continental</td>\n",
       "      <td>4.1</td>\n",
       "      <td>2415</td>\n",
       "      <td>2000</td>\n",
       "      <td>CentralDelhi Delhi North Indian,  Finger Food,...</td>\n",
       "    </tr>\n",
       "    <tr>\n",
       "      <th>1</th>\n",
       "      <td>The G.T. ROAD</td>\n",
       "      <td>M-Block,ConnaughtPlace,CentralDelhi</td>\n",
       "      <td>CentralDelhi</td>\n",
       "      <td>Delhi</td>\n",
       "      <td>North Indian</td>\n",
       "      <td>4.3</td>\n",
       "      <td>2363</td>\n",
       "      <td>1500</td>\n",
       "      <td>CentralDelhi Delhi North Indian</td>\n",
       "    </tr>\n",
       "    <tr>\n",
       "      <th>2</th>\n",
       "      <td>Tamasha</td>\n",
       "      <td>ConnaughtPlace,CentralDelhi</td>\n",
       "      <td>CentralDelhi</td>\n",
       "      <td>Delhi</td>\n",
       "      <td>Finger Food,  North Indian,  Italian,  Contine...</td>\n",
       "      <td>4.2</td>\n",
       "      <td>5016</td>\n",
       "      <td>2000</td>\n",
       "      <td>CentralDelhi Delhi Finger Food,  North Indian,...</td>\n",
       "    </tr>\n",
       "    <tr>\n",
       "      <th>3</th>\n",
       "      <td>The Junkyard Cafe</td>\n",
       "      <td>ConnaughtPlace,CentralDelhi</td>\n",
       "      <td>CentralDelhi</td>\n",
       "      <td>Delhi</td>\n",
       "      <td>North Indian,  Mediterranean,  Asian,  Italian...</td>\n",
       "      <td>4.2</td>\n",
       "      <td>2821</td>\n",
       "      <td>1800</td>\n",
       "      <td>CentralDelhi Delhi North Indian,  Mediterranea...</td>\n",
       "    </tr>\n",
       "    <tr>\n",
       "      <th>4</th>\n",
       "      <td>Chili's American Grill and Bar</td>\n",
       "      <td>M-Block,ConnaughtPlace,CentralDelhi</td>\n",
       "      <td>CentralDelhi</td>\n",
       "      <td>Delhi</td>\n",
       "      <td>Mexican,  American,  Italian</td>\n",
       "      <td>4.4</td>\n",
       "      <td>1094</td>\n",
       "      <td>2000</td>\n",
       "      <td>CentralDelhi Delhi Mexican,  American,  Italian</td>\n",
       "    </tr>\n",
       "  </tbody>\n",
       "</table>\n",
       "</div>"
      ],
      "text/plain": [
       "                             Name                                  Location  \\\n",
       "0                           Local  ScindiaHouse,ConnaughtPlace,CentralDelhi   \n",
       "1                   The G.T. ROAD       M-Block,ConnaughtPlace,CentralDelhi   \n",
       "2                         Tamasha               ConnaughtPlace,CentralDelhi   \n",
       "3               The Junkyard Cafe               ConnaughtPlace,CentralDelhi   \n",
       "4  Chili's American Grill and Bar       M-Block,ConnaughtPlace,CentralDelhi   \n",
       "\n",
       "       Locality   City                                            Cuisine  \\\n",
       "0  CentralDelhi  Delhi           North Indian,  Finger Food,  Continental   \n",
       "1  CentralDelhi  Delhi                                       North Indian   \n",
       "2  CentralDelhi  Delhi  Finger Food,  North Indian,  Italian,  Contine...   \n",
       "3  CentralDelhi  Delhi  North Indian,  Mediterranean,  Asian,  Italian...   \n",
       "4  CentralDelhi  Delhi                       Mexican,  American,  Italian   \n",
       "\n",
       "   Rating  Votes  Cost                                           Combined  \n",
       "0     4.1   2415  2000  CentralDelhi Delhi North Indian,  Finger Food,...  \n",
       "1     4.3   2363  1500                    CentralDelhi Delhi North Indian  \n",
       "2     4.2   5016  2000  CentralDelhi Delhi Finger Food,  North Indian,...  \n",
       "3     4.2   2821  1800  CentralDelhi Delhi North Indian,  Mediterranea...  \n",
       "4     4.4   1094  2000    CentralDelhi Delhi Mexican,  American,  Italian  "
      ]
     },
     "execution_count": 7,
     "metadata": {},
     "output_type": "execute_result"
    }
   ],
   "source": [
    "resto.head()"
   ]
  },
  {
   "cell_type": "code",
   "execution_count": 8,
   "id": "e58df51a-f6c3-4c99-b848-20c38b37ecc4",
   "metadata": {},
   "outputs": [],
   "source": [
    "new_df= resto[['Name', 'City','Locality','Combined','Cuisine']]"
   ]
  },
  {
   "cell_type": "code",
   "execution_count": 9,
   "id": "d235a1a9-4ca9-45a2-b4d2-9ba5e21a04cb",
   "metadata": {},
   "outputs": [
    {
     "name": "stderr",
     "output_type": "stream",
     "text": [
      "C:\\Users\\ragha\\AppData\\Local\\Temp\\ipykernel_13576\\2079061807.py:1: SettingWithCopyWarning: \n",
      "A value is trying to be set on a copy of a slice from a DataFrame.\n",
      "Try using .loc[row_indexer,col_indexer] = value instead\n",
      "\n",
      "See the caveats in the documentation: https://pandas.pydata.org/pandas-docs/stable/user_guide/indexing.html#returning-a-view-versus-a-copy\n",
      "  new_df['Combined']= new_df['Combined'].apply(lambda x:x.lower())\n"
     ]
    }
   ],
   "source": [
    "new_df['Combined']= new_df['Combined'].apply(lambda x:x.lower())"
   ]
  },
  {
   "cell_type": "code",
   "execution_count": 10,
   "id": "e82fdeae-ce31-4a38-8fa9-14c27887f8b9",
   "metadata": {},
   "outputs": [
    {
     "data": {
      "text/html": [
       "<div>\n",
       "<style scoped>\n",
       "    .dataframe tbody tr th:only-of-type {\n",
       "        vertical-align: middle;\n",
       "    }\n",
       "\n",
       "    .dataframe tbody tr th {\n",
       "        vertical-align: top;\n",
       "    }\n",
       "\n",
       "    .dataframe thead th {\n",
       "        text-align: right;\n",
       "    }\n",
       "</style>\n",
       "<table border=\"1\" class=\"dataframe\">\n",
       "  <thead>\n",
       "    <tr style=\"text-align: right;\">\n",
       "      <th></th>\n",
       "      <th>Name</th>\n",
       "      <th>City</th>\n",
       "      <th>Locality</th>\n",
       "      <th>Combined</th>\n",
       "      <th>Cuisine</th>\n",
       "    </tr>\n",
       "  </thead>\n",
       "  <tbody>\n",
       "    <tr>\n",
       "      <th>0</th>\n",
       "      <td>Local</td>\n",
       "      <td>Delhi</td>\n",
       "      <td>CentralDelhi</td>\n",
       "      <td>centraldelhi delhi north indian,  finger food,...</td>\n",
       "      <td>North Indian,  Finger Food,  Continental</td>\n",
       "    </tr>\n",
       "    <tr>\n",
       "      <th>1</th>\n",
       "      <td>The G.T. ROAD</td>\n",
       "      <td>Delhi</td>\n",
       "      <td>CentralDelhi</td>\n",
       "      <td>centraldelhi delhi north indian</td>\n",
       "      <td>North Indian</td>\n",
       "    </tr>\n",
       "    <tr>\n",
       "      <th>2</th>\n",
       "      <td>Tamasha</td>\n",
       "      <td>Delhi</td>\n",
       "      <td>CentralDelhi</td>\n",
       "      <td>centraldelhi delhi finger food,  north indian,...</td>\n",
       "      <td>Finger Food,  North Indian,  Italian,  Contine...</td>\n",
       "    </tr>\n",
       "    <tr>\n",
       "      <th>3</th>\n",
       "      <td>The Junkyard Cafe</td>\n",
       "      <td>Delhi</td>\n",
       "      <td>CentralDelhi</td>\n",
       "      <td>centraldelhi delhi north indian,  mediterranea...</td>\n",
       "      <td>North Indian,  Mediterranean,  Asian,  Italian...</td>\n",
       "    </tr>\n",
       "    <tr>\n",
       "      <th>4</th>\n",
       "      <td>Chili's American Grill and Bar</td>\n",
       "      <td>Delhi</td>\n",
       "      <td>CentralDelhi</td>\n",
       "      <td>centraldelhi delhi mexican,  american,  italian</td>\n",
       "      <td>Mexican,  American,  Italian</td>\n",
       "    </tr>\n",
       "  </tbody>\n",
       "</table>\n",
       "</div>"
      ],
      "text/plain": [
       "                             Name   City      Locality  \\\n",
       "0                           Local  Delhi  CentralDelhi   \n",
       "1                   The G.T. ROAD  Delhi  CentralDelhi   \n",
       "2                         Tamasha  Delhi  CentralDelhi   \n",
       "3               The Junkyard Cafe  Delhi  CentralDelhi   \n",
       "4  Chili's American Grill and Bar  Delhi  CentralDelhi   \n",
       "\n",
       "                                            Combined  \\\n",
       "0  centraldelhi delhi north indian,  finger food,...   \n",
       "1                    centraldelhi delhi north indian   \n",
       "2  centraldelhi delhi finger food,  north indian,...   \n",
       "3  centraldelhi delhi north indian,  mediterranea...   \n",
       "4    centraldelhi delhi mexican,  american,  italian   \n",
       "\n",
       "                                             Cuisine  \n",
       "0           North Indian,  Finger Food,  Continental  \n",
       "1                                       North Indian  \n",
       "2  Finger Food,  North Indian,  Italian,  Contine...  \n",
       "3  North Indian,  Mediterranean,  Asian,  Italian...  \n",
       "4                       Mexican,  American,  Italian  "
      ]
     },
     "execution_count": 10,
     "metadata": {},
     "output_type": "execute_result"
    }
   ],
   "source": [
    "new_df.head()"
   ]
  },
  {
   "cell_type": "code",
   "execution_count": 11,
   "id": "ad14c7d8-8599-48ec-9b06-bad62756568a",
   "metadata": {},
   "outputs": [],
   "source": [
    "from sklearn.feature_extraction.text import CountVectorizer\n",
    "cv = CountVectorizer(max_features= 10000)"
   ]
  },
  {
   "cell_type": "code",
   "execution_count": 12,
   "id": "ade00999-4393-4faf-979e-53767fc06aaf",
   "metadata": {},
   "outputs": [],
   "source": [
    "vectors= cv.fit_transform(new_df['Combined']).toarray()"
   ]
  },
  {
   "cell_type": "code",
   "execution_count": 13,
   "id": "a544fc92-b81a-4fa1-a710-f8ce30562a6b",
   "metadata": {},
   "outputs": [
    {
     "data": {
      "text/plain": [
       "array([0, 0, 0, 0, 0, 0, 0, 0, 0, 0, 0, 0, 0, 0, 0, 0, 0, 0, 0, 0, 0, 0,\n",
       "       0, 0, 0, 0, 0, 0, 0, 0, 0, 0, 1, 0, 0, 0, 0, 0, 0, 0, 0, 0, 0, 0,\n",
       "       0, 0, 0, 0, 0, 0, 0, 0, 0, 0, 1, 0, 0, 1, 0, 0, 0, 0, 0, 0, 0, 0,\n",
       "       0, 0, 0, 0, 0, 0, 0, 0, 0, 0, 0, 0, 0, 0, 0, 0, 0, 0, 1, 1, 0, 0,\n",
       "       0, 0, 0, 0, 0, 0, 0, 0, 0, 0, 0, 0, 0, 1, 0, 0, 0, 0, 0, 0, 0, 0,\n",
       "       0, 0, 0, 0, 0, 0, 0, 0, 0, 0, 0, 0, 0, 0, 0, 0, 0, 0, 0, 0, 0, 0,\n",
       "       0, 0, 0, 0, 0, 0, 0, 0, 0, 0, 1, 0, 0, 0, 0, 0, 0, 0, 0, 0, 0, 0,\n",
       "       0, 0, 0, 0, 0, 0, 0, 0, 0, 0, 0, 0, 0, 0, 0, 0, 0, 0, 0, 0, 0, 0,\n",
       "       0, 0, 0, 0, 0, 0, 0, 0, 0, 0, 0, 0, 0, 0, 0, 0, 0, 0, 0, 0, 0, 0,\n",
       "       0, 0, 0, 0, 0, 0, 0, 0, 0, 0, 0, 0, 0, 0, 0, 0, 0, 0, 0, 0, 0, 0,\n",
       "       0, 0, 0, 0, 0, 0, 0, 0, 0, 0, 0], dtype=int64)"
      ]
     },
     "execution_count": 13,
     "metadata": {},
     "output_type": "execute_result"
    }
   ],
   "source": [
    "vectors[0]"
   ]
  },
  {
   "cell_type": "code",
   "execution_count": 14,
   "id": "434bc014-c0ad-43ff-8994-af15d3631547",
   "metadata": {},
   "outputs": [
    {
     "data": {
      "text/plain": [
       "array(['24parganasnorth', '24parganassouth', 'afghani', 'african', 'agra',\n",
       "       'ahmedabad', 'american', 'and', 'andherieast', 'andheriwest',\n",
       "       'andhra', 'arabian', 'asian', 'assamese', 'awadhi', 'bakery',\n",
       "       'bandra', 'bangalore', 'bangaloremangalorehighway', 'barbecue',\n",
       "       'bengali', 'bihari', 'biryani', 'british', 'burger', 'burmese',\n",
       "       'cantonese', 'centralagra', 'centralahmedabad', 'centralbangalore',\n",
       "       'centralchandigarh', 'centralchennai', 'centraldelhi',\n",
       "       'centraleasthyderabad', 'centralhyderabad', 'centralindore',\n",
       "       'centraljaipur', 'centralkolkata', 'centrallucknow',\n",
       "       'centralludhiana', 'centralnagpur', 'centralsuburbs',\n",
       "       'centraludaipur', 'centralvadodara', 'centralwesthyderabad',\n",
       "       'chaat', 'chandigarh', 'chennai', 'chettinad', 'chinese',\n",
       "       'coastal', 'coffee', 'confectionary', 'contemporary',\n",
       "       'continental', 'cream', 'cuisine', 'delhi', 'deli', 'desserts',\n",
       "       'dombivali', 'doughnuts', 'drinks', 'eastagra', 'eastahmedabad',\n",
       "       'eastbangalore', 'eastchandigarh', 'eastdelhi', 'eastern',\n",
       "       'easthyderabad', 'eastindore', 'eastjaipur', 'eastkochi',\n",
       "       'eastkolkata', 'eastlucknow', 'eastludhiana', 'eastnagpur',\n",
       "       'eastpune', 'eastsurat', 'eastudaipur', 'eastvadodara', 'european',\n",
       "       'faridabad', 'fast', 'finger', 'food', 'french', 'frontier',\n",
       "       'fusion', 'german', 'ghaziabad', 'goa', 'goan', 'greek',\n",
       "       'gujarati', 'gurgaon', 'health', 'howrah', 'hyderabad',\n",
       "       'hyderabadi', 'ice', 'indian', 'indonesian', 'indore', 'iranian',\n",
       "       'italian', 'jaipur', 'japanese', 'juice', 'kashmiri', 'kerala',\n",
       "       'kochi', 'kolkata', 'konkani', 'korean', 'lebanese', 'lucknow',\n",
       "       'lucknowi', 'ludhiana', 'maharashtrian', 'malaysian', 'malvani',\n",
       "       'mangalorean', 'maryada', 'mediterranean', 'mex', 'mexican',\n",
       "       'middle', 'mithai', 'modern', 'mohali', 'moroccan', 'mughlai',\n",
       "       'multi', 'mumbai', 'mysorehighway', 'naga', 'nagpur', 'navimumbai',\n",
       "       'ncrgreaternoida', 'nepalese', 'noida', 'north', 'northagra',\n",
       "       'northahmedabad', 'northbangalore', 'northchandigarh',\n",
       "       'northchennai', 'northdelhi', 'northgoa', 'northindore',\n",
       "       'northjaipur', 'northkochi', 'northkolkata', 'northlucknow',\n",
       "       'northmysore', 'northnagpur', 'northsurat', 'northvadodara',\n",
       "       'northwestern', 'oriental', 'pakistani', 'panchkula', 'parsi',\n",
       "       'persian', 'pizza', 'portuguese', 'powai', 'pune', 'rajasthani',\n",
       "       'seafood', 'secunderabad', 'shakes', 'sindhi', 'singaporean',\n",
       "       'sizzlers', 'south', 'southahmedabad', 'southbangalore',\n",
       "       'southchandigarh', 'southchennai', 'southdelhi', 'southgoa',\n",
       "       'southhyderabad', 'southindore', 'southjaipur', 'southkolkata',\n",
       "       'southlucknow', 'southludhiana', 'southmumbai', 'southnagpur',\n",
       "       'southpune', 'southsurat', 'southudaipur', 'southvadodara',\n",
       "       'southwestchennai', 'spanish', 'street', 'surat', 'sushi', 'tea',\n",
       "       'tex', 'thai', 'thane', 'tibetan', 'turkish', 'udaipur',\n",
       "       'vadodara', 'vietnamese', 'waffle', 'west', 'westagra',\n",
       "       'westahmedabad', 'westbangalore', 'westchandigarh', 'westchennai',\n",
       "       'westdelhi', 'western', 'westhyderabad', 'westindore',\n",
       "       'westjaipur', 'westkolkata', 'westludhiana', 'westnagpur',\n",
       "       'westpune', 'westsurat', 'westudaipur', 'westvadodara', 'world',\n",
       "       'yogurt', 'zirakpur'], dtype=object)"
      ]
     },
     "execution_count": 14,
     "metadata": {},
     "output_type": "execute_result"
    }
   ],
   "source": [
    "cv.get_feature_names_out()"
   ]
  },
  {
   "cell_type": "code",
   "execution_count": 15,
   "id": "6e87fb6a-c2a1-412c-8096-11254ff95df6",
   "metadata": {},
   "outputs": [],
   "source": [
    "from sklearn.metrics.pairwise import cosine_similarity"
   ]
  },
  {
   "cell_type": "code",
   "execution_count": 16,
   "id": "1908bee3-ec55-45d9-a80e-d3746586ad2b",
   "metadata": {},
   "outputs": [],
   "source": [
    "similarity= cosine_similarity(vectors)"
   ]
  },
  {
   "cell_type": "code",
   "execution_count": 17,
   "id": "e147b93d-7107-4bfb-8348-ccd21aa148a3",
   "metadata": {},
   "outputs": [
    {
     "data": {
      "text/plain": [
       "[(122, 0.9354143466934851),\n",
       " (2, 0.8819171036881966),\n",
       " (17, 0.8571428571428569),\n",
       " (360, 0.8571428571428569),\n",
       " (689, 0.8571428571428569)]"
      ]
     },
     "execution_count": 17,
     "metadata": {},
     "output_type": "execute_result"
    }
   ],
   "source": [
    "sorted(list(enumerate(similarity[0])),reverse = True, key= lambda x:x[1])[1:6]"
   ]
  },
  {
   "cell_type": "code",
   "execution_count": 18,
   "id": "3fde05a8-a760-490b-84c3-8a09f2cf8a3f",
   "metadata": {},
   "outputs": [],
   "source": [
    "def recommend(res, loc, city):\n",
    "    res_index = new_df.index[new_df['Name'] == res]\n",
    "    if len(res_index) == 0:\n",
    "        print(\"Restaurant not found.\")\n",
    "        return\n",
    "    cuisines = set(new_df.loc[res_index[0], 'Cuisine'].split(', '))\n",
    "    print(\"Cuisines of input restaurant:\", ', '.join(cuisines))\n",
    "    similar_restaurants = new_df[(new_df['Locality'] == loc) | (new_df['City'] == city)]\n",
    "    similar_restaurants['Matched Cuisines'] = similar_restaurants['Cuisine'].apply(lambda x: len(set(x.split(', ')) & cuisines))\n",
    "    similar_restaurants = similar_restaurants[similar_restaurants['Name'] != res]\n",
    "    similar_restaurants = similar_restaurants.sort_values(by='Matched Cuisines', ascending=False)\n",
    "    if len(similar_restaurants) > 0:\n",
    "        print(\"Top 5 recommended restaurants:\")\n",
    "        for name, matched_cuisines in similar_restaurants[['Name', 'Matched Cuisines']].head(5).itertuples(index=False):\n",
    "            print(f\"{name} (Matched Cuisines: {matched_cuisines})\")\n",
    "    else:\n",
    "        print(\"No similar restaurants found in the same locality or city.\")\n",
    "\n"
   ]
  },
  {
   "cell_type": "code",
   "execution_count": 19,
   "id": "3275292f-e05f-4941-ba1f-087a47ca5121",
   "metadata": {},
   "outputs": [
    {
     "name": "stdout",
     "output_type": "stream",
     "text": [
      "Cuisines of input restaurant:  North Indian,  Continental,  Finger Food, Multi-Cuisine,  Chinese\n",
      "Top 5 recommended restaurants:\n",
      "Top of The World Restaurant (Matched Cuisines: 4)\n",
      "Ice n Spice (Matched Cuisines: 4)\n",
      "Theth Masala (Matched Cuisines: 4)\n",
      "Heart Cup Coffee (Matched Cuisines: 4)\n",
      "Skypark Cafe (Matched Cuisines: 4)\n"
     ]
    },
    {
     "name": "stderr",
     "output_type": "stream",
     "text": [
      "C:\\Users\\ragha\\AppData\\Local\\Temp\\ipykernel_13576\\1917222609.py:9: SettingWithCopyWarning: \n",
      "A value is trying to be set on a copy of a slice from a DataFrame.\n",
      "Try using .loc[row_indexer,col_indexer] = value instead\n",
      "\n",
      "See the caveats in the documentation: https://pandas.pydata.org/pandas-docs/stable/user_guide/indexing.html#returning-a-view-versus-a-copy\n",
      "  similar_restaurants['Matched Cuisines'] = similar_restaurants['Cuisine'].apply(lambda x: len(set(x.split(', ')) & cuisines))\n"
     ]
    }
   ],
   "source": [
    "recommend('10 Downing Street','CentralEastHyderabad', 'Hyderabad')"
   ]
  },
  {
   "cell_type": "code",
   "execution_count": 20,
   "id": "7457413a-a9ff-49bc-af20-b66ae75ff69b",
   "metadata": {},
   "outputs": [],
   "source": [
    "import pickle"
   ]
  },
  {
   "cell_type": "code",
   "execution_count": 21,
   "id": "814127bf-548c-49f4-b198-bbc82ac3004c",
   "metadata": {},
   "outputs": [],
   "source": [
    "pickle.dump(new_df.to_dict(),open('resto_dict.pkl','wb'))"
   ]
  },
  {
   "cell_type": "code",
   "execution_count": 22,
   "id": "ef46fe58-966e-4c6e-94d4-40b4d73a47d2",
   "metadata": {},
   "outputs": [],
   "source": [
    "pickle.dump(similarity,open('similarity.pkl', 'wb'))"
   ]
  },
  {
   "cell_type": "raw",
   "id": "9eb837cf-a902-4060-9778-73e93de7d048",
   "metadata": {},
   "source": [
    "pickle.dump(new_df.to_dict(),open('resto_dict1.pkl','wb'))"
   ]
  },
  {
   "cell_type": "code",
   "execution_count": 23,
   "id": "a26ac4b2-7825-4e81-8e64-dd45aa5cd762",
   "metadata": {},
   "outputs": [],
   "source": [
    "pickle.dump(similarity,open('similarity1.pkl', 'wb'))"
   ]
  },
  {
   "cell_type": "code",
   "execution_count": null,
   "id": "76ef5a53-62c9-44da-b904-f4dc56dd6f13",
   "metadata": {},
   "outputs": [],
   "source": []
  }
 ],
 "metadata": {
  "kernelspec": {
   "display_name": "Python 3 (ipykernel)",
   "language": "python",
   "name": "python3"
  },
  "language_info": {
   "codemirror_mode": {
    "name": "ipython",
    "version": 3
   },
   "file_extension": ".py",
   "mimetype": "text/x-python",
   "name": "python",
   "nbconvert_exporter": "python",
   "pygments_lexer": "ipython3",
   "version": "3.11.7"
  }
 },
 "nbformat": 4,
 "nbformat_minor": 5
}
